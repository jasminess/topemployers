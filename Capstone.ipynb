{
 "cells": [
  {
   "cell_type": "code",
   "execution_count": 1,
   "metadata": {},
   "outputs": [],
   "source": [
    "import pandas as pd\n",
    "import matplotlib.pyplot as plt\n",
    "import re\n",
    "import numpy as np\n",
    "import nltk\n",
    "from nltk.corpus import stopwords\n",
    "from wordcloud import WordCloud, STOPWORDS, ImageColorGenerator\n",
    "import seaborn as sns\n",
    "import re, string, unicodedata\n",
    "from nltk import word_tokenize, sent_tokenize\n",
    "from sklearn.feature_extraction.text import CountVectorizer\n",
    "from sklearn.model_selection import train_test_split\n",
    "from sklearn.naive_bayes import MultinomialNB\n",
    "from sklearn.metrics import confusion_matrix, classification_report\n",
    "from sklearn.ensemble import RandomForestClassifier"
   ]
  },
  {
   "cell_type": "code",
   "execution_count": 2,
   "metadata": {},
   "outputs": [],
   "source": [
    "dataemp = pd.read_csv('employee_reviews.csv', sep = \",\", index_col =0)"
   ]
  },
  {
   "cell_type": "code",
   "execution_count": 3,
   "metadata": {},
   "outputs": [
    {
     "data": {
      "text/html": [
       "<div>\n",
       "<style scoped>\n",
       "    .dataframe tbody tr th:only-of-type {\n",
       "        vertical-align: middle;\n",
       "    }\n",
       "\n",
       "    .dataframe tbody tr th {\n",
       "        vertical-align: top;\n",
       "    }\n",
       "\n",
       "    .dataframe thead th {\n",
       "        text-align: right;\n",
       "    }\n",
       "</style>\n",
       "<table border=\"1\" class=\"dataframe\">\n",
       "  <thead>\n",
       "    <tr style=\"text-align: right;\">\n",
       "      <th></th>\n",
       "      <th>company</th>\n",
       "      <th>location</th>\n",
       "      <th>dates</th>\n",
       "      <th>job-title</th>\n",
       "      <th>summary</th>\n",
       "      <th>pros</th>\n",
       "      <th>cons</th>\n",
       "      <th>advice-to-mgmt</th>\n",
       "      <th>overall-ratings</th>\n",
       "      <th>work-balance-stars</th>\n",
       "      <th>culture-values-stars</th>\n",
       "      <th>carrer-opportunities-stars</th>\n",
       "      <th>comp-benefit-stars</th>\n",
       "      <th>senior-mangemnet-stars</th>\n",
       "      <th>helpful-count</th>\n",
       "      <th>link</th>\n",
       "    </tr>\n",
       "  </thead>\n",
       "  <tbody>\n",
       "    <tr>\n",
       "      <th>1</th>\n",
       "      <td>google</td>\n",
       "      <td>none</td>\n",
       "      <td>Dec 11, 2018</td>\n",
       "      <td>Current Employee - Anonymous Employee</td>\n",
       "      <td>Best Company to work for</td>\n",
       "      <td>People are smart and friendly</td>\n",
       "      <td>Bureaucracy is slowing things down</td>\n",
       "      <td>none</td>\n",
       "      <td>5.0</td>\n",
       "      <td>4.0</td>\n",
       "      <td>5.0</td>\n",
       "      <td>5.0</td>\n",
       "      <td>4.0</td>\n",
       "      <td>5.0</td>\n",
       "      <td>0</td>\n",
       "      <td>https://www.glassdoor.com/Reviews/Google-Revie...</td>\n",
       "    </tr>\n",
       "    <tr>\n",
       "      <th>2</th>\n",
       "      <td>google</td>\n",
       "      <td>Mountain View, CA</td>\n",
       "      <td>Jun 21, 2013</td>\n",
       "      <td>Former Employee - Program Manager</td>\n",
       "      <td>Moving at the speed of light, burn out is inev...</td>\n",
       "      <td>1) Food, food, food. 15+ cafes on main campus ...</td>\n",
       "      <td>1) Work/life balance. What balance? All those ...</td>\n",
       "      <td>1) Don't dismiss emotional intelligence and ad...</td>\n",
       "      <td>4.0</td>\n",
       "      <td>2.0</td>\n",
       "      <td>3.0</td>\n",
       "      <td>3.0</td>\n",
       "      <td>5.0</td>\n",
       "      <td>3.0</td>\n",
       "      <td>2094</td>\n",
       "      <td>https://www.glassdoor.com/Reviews/Google-Revie...</td>\n",
       "    </tr>\n",
       "    <tr>\n",
       "      <th>3</th>\n",
       "      <td>google</td>\n",
       "      <td>New York, NY</td>\n",
       "      <td>May 10, 2014</td>\n",
       "      <td>Current Employee - Software Engineer III</td>\n",
       "      <td>Great balance between big-company security and...</td>\n",
       "      <td>* If you're a software engineer, you're among ...</td>\n",
       "      <td>* It *is* becoming larger, and with it comes g...</td>\n",
       "      <td>Keep the focus on the user. Everything else wi...</td>\n",
       "      <td>5.0</td>\n",
       "      <td>5.0</td>\n",
       "      <td>4.0</td>\n",
       "      <td>5.0</td>\n",
       "      <td>5.0</td>\n",
       "      <td>4.0</td>\n",
       "      <td>949</td>\n",
       "      <td>https://www.glassdoor.com/Reviews/Google-Revie...</td>\n",
       "    </tr>\n",
       "    <tr>\n",
       "      <th>4</th>\n",
       "      <td>google</td>\n",
       "      <td>Mountain View, CA</td>\n",
       "      <td>Feb 8, 2015</td>\n",
       "      <td>Current Employee - Anonymous Employee</td>\n",
       "      <td>The best place I've worked and also the most d...</td>\n",
       "      <td>You can't find a more well-regarded company th...</td>\n",
       "      <td>I live in SF so the commute can take between 1...</td>\n",
       "      <td>Keep on NOT micromanaging - that is a huge ben...</td>\n",
       "      <td>5.0</td>\n",
       "      <td>2.0</td>\n",
       "      <td>5.0</td>\n",
       "      <td>5.0</td>\n",
       "      <td>4.0</td>\n",
       "      <td>5.0</td>\n",
       "      <td>498</td>\n",
       "      <td>https://www.glassdoor.com/Reviews/Google-Revie...</td>\n",
       "    </tr>\n",
       "    <tr>\n",
       "      <th>5</th>\n",
       "      <td>google</td>\n",
       "      <td>Los Angeles, CA</td>\n",
       "      <td>Jul 19, 2018</td>\n",
       "      <td>Former Employee - Software Engineer</td>\n",
       "      <td>Unique, one of a kind dream job</td>\n",
       "      <td>Google is a world of its own. At every other c...</td>\n",
       "      <td>If you don't work in MTV (HQ), you will be giv...</td>\n",
       "      <td>Promote managers into management for their man...</td>\n",
       "      <td>5.0</td>\n",
       "      <td>5.0</td>\n",
       "      <td>5.0</td>\n",
       "      <td>5.0</td>\n",
       "      <td>5.0</td>\n",
       "      <td>5.0</td>\n",
       "      <td>49</td>\n",
       "      <td>https://www.glassdoor.com/Reviews/Google-Revie...</td>\n",
       "    </tr>\n",
       "  </tbody>\n",
       "</table>\n",
       "</div>"
      ],
      "text/plain": [
       "  company           location          dates  \\\n",
       "1  google               none   Dec 11, 2018   \n",
       "2  google  Mountain View, CA   Jun 21, 2013   \n",
       "3  google       New York, NY   May 10, 2014   \n",
       "4  google  Mountain View, CA    Feb 8, 2015   \n",
       "5  google    Los Angeles, CA   Jul 19, 2018   \n",
       "\n",
       "                                  job-title  \\\n",
       "1     Current Employee - Anonymous Employee   \n",
       "2         Former Employee - Program Manager   \n",
       "3  Current Employee - Software Engineer III   \n",
       "4     Current Employee - Anonymous Employee   \n",
       "5       Former Employee - Software Engineer   \n",
       "\n",
       "                                             summary  \\\n",
       "1                           Best Company to work for   \n",
       "2  Moving at the speed of light, burn out is inev...   \n",
       "3  Great balance between big-company security and...   \n",
       "4  The best place I've worked and also the most d...   \n",
       "5                    Unique, one of a kind dream job   \n",
       "\n",
       "                                                pros  \\\n",
       "1                      People are smart and friendly   \n",
       "2  1) Food, food, food. 15+ cafes on main campus ...   \n",
       "3  * If you're a software engineer, you're among ...   \n",
       "4  You can't find a more well-regarded company th...   \n",
       "5  Google is a world of its own. At every other c...   \n",
       "\n",
       "                                                cons  \\\n",
       "1                 Bureaucracy is slowing things down   \n",
       "2  1) Work/life balance. What balance? All those ...   \n",
       "3  * It *is* becoming larger, and with it comes g...   \n",
       "4  I live in SF so the commute can take between 1...   \n",
       "5  If you don't work in MTV (HQ), you will be giv...   \n",
       "\n",
       "                                      advice-to-mgmt  overall-ratings  \\\n",
       "1                                               none              5.0   \n",
       "2  1) Don't dismiss emotional intelligence and ad...              4.0   \n",
       "3  Keep the focus on the user. Everything else wi...              5.0   \n",
       "4  Keep on NOT micromanaging - that is a huge ben...              5.0   \n",
       "5  Promote managers into management for their man...              5.0   \n",
       "\n",
       "  work-balance-stars culture-values-stars carrer-opportunities-stars  \\\n",
       "1                4.0                  5.0                        5.0   \n",
       "2                2.0                  3.0                        3.0   \n",
       "3                5.0                  4.0                        5.0   \n",
       "4                2.0                  5.0                        5.0   \n",
       "5                5.0                  5.0                        5.0   \n",
       "\n",
       "  comp-benefit-stars senior-mangemnet-stars  helpful-count  \\\n",
       "1                4.0                    5.0              0   \n",
       "2                5.0                    3.0           2094   \n",
       "3                5.0                    4.0            949   \n",
       "4                4.0                    5.0            498   \n",
       "5                5.0                    5.0             49   \n",
       "\n",
       "                                                link  \n",
       "1  https://www.glassdoor.com/Reviews/Google-Revie...  \n",
       "2  https://www.glassdoor.com/Reviews/Google-Revie...  \n",
       "3  https://www.glassdoor.com/Reviews/Google-Revie...  \n",
       "4  https://www.glassdoor.com/Reviews/Google-Revie...  \n",
       "5  https://www.glassdoor.com/Reviews/Google-Revie...  "
      ]
     },
     "execution_count": 3,
     "metadata": {},
     "output_type": "execute_result"
    }
   ],
   "source": [
    "dataemp.head()"
   ]
  },
  {
   "cell_type": "code",
   "execution_count": null,
   "metadata": {},
   "outputs": [],
   "source": []
  },
  {
   "cell_type": "code",
   "execution_count": 4,
   "metadata": {},
   "outputs": [
    {
     "data": {
      "text/plain": [
       "(67529, 16)"
      ]
     },
     "execution_count": 4,
     "metadata": {},
     "output_type": "execute_result"
    }
   ],
   "source": [
    "dataemp.shape"
   ]
  },
  {
   "cell_type": "code",
   "execution_count": 5,
   "metadata": {},
   "outputs": [
    {
     "name": "stdout",
     "output_type": "stream",
     "text": [
      "<class 'pandas.core.frame.DataFrame'>\n",
      "Int64Index: 67529 entries, 1 to 67529\n",
      "Data columns (total 16 columns):\n",
      "company                       67529 non-null object\n",
      "location                      67529 non-null object\n",
      "dates                         67529 non-null object\n",
      "job-title                     67529 non-null object\n",
      "summary                       67409 non-null object\n",
      "pros                          67529 non-null object\n",
      "cons                          67529 non-null object\n",
      "advice-to-mgmt                67232 non-null object\n",
      "overall-ratings               67529 non-null float64\n",
      "work-balance-stars            67529 non-null object\n",
      "culture-values-stars          67529 non-null object\n",
      "carrer-opportunities-stars    67529 non-null object\n",
      "comp-benefit-stars            67529 non-null object\n",
      "senior-mangemnet-stars        67529 non-null object\n",
      "helpful-count                 67529 non-null int64\n",
      "link                          67529 non-null object\n",
      "dtypes: float64(1), int64(1), object(14)\n",
      "memory usage: 8.8+ MB\n"
     ]
    }
   ],
   "source": [
    "dataemp.info()"
   ]
  },
  {
   "cell_type": "code",
   "execution_count": 6,
   "metadata": {},
   "outputs": [],
   "source": [
    "dataemp.drop(columns = [ 'location', 'advice-to-mgmt', 'job-title', 'helpful-count', 'link'], inplace = True)"
   ]
  },
  {
   "cell_type": "code",
   "execution_count": 7,
   "metadata": {},
   "outputs": [
    {
     "data": {
      "text/html": [
       "<div>\n",
       "<style scoped>\n",
       "    .dataframe tbody tr th:only-of-type {\n",
       "        vertical-align: middle;\n",
       "    }\n",
       "\n",
       "    .dataframe tbody tr th {\n",
       "        vertical-align: top;\n",
       "    }\n",
       "\n",
       "    .dataframe thead th {\n",
       "        text-align: right;\n",
       "    }\n",
       "</style>\n",
       "<table border=\"1\" class=\"dataframe\">\n",
       "  <thead>\n",
       "    <tr style=\"text-align: right;\">\n",
       "      <th></th>\n",
       "      <th>overall-ratings</th>\n",
       "    </tr>\n",
       "  </thead>\n",
       "  <tbody>\n",
       "    <tr>\n",
       "      <th>count</th>\n",
       "      <td>67529.000000</td>\n",
       "    </tr>\n",
       "    <tr>\n",
       "      <th>mean</th>\n",
       "      <td>3.826075</td>\n",
       "    </tr>\n",
       "    <tr>\n",
       "      <th>std</th>\n",
       "      <td>1.154989</td>\n",
       "    </tr>\n",
       "    <tr>\n",
       "      <th>min</th>\n",
       "      <td>1.000000</td>\n",
       "    </tr>\n",
       "    <tr>\n",
       "      <th>25%</th>\n",
       "      <td>3.000000</td>\n",
       "    </tr>\n",
       "    <tr>\n",
       "      <th>50%</th>\n",
       "      <td>4.000000</td>\n",
       "    </tr>\n",
       "    <tr>\n",
       "      <th>75%</th>\n",
       "      <td>5.000000</td>\n",
       "    </tr>\n",
       "    <tr>\n",
       "      <th>max</th>\n",
       "      <td>5.000000</td>\n",
       "    </tr>\n",
       "  </tbody>\n",
       "</table>\n",
       "</div>"
      ],
      "text/plain": [
       "       overall-ratings\n",
       "count     67529.000000\n",
       "mean          3.826075\n",
       "std           1.154989\n",
       "min           1.000000\n",
       "25%           3.000000\n",
       "50%           4.000000\n",
       "75%           5.000000\n",
       "max           5.000000"
      ]
     },
     "execution_count": 7,
     "metadata": {},
     "output_type": "execute_result"
    }
   ],
   "source": [
    "dataemp.describe()"
   ]
  },
  {
   "cell_type": "code",
   "execution_count": 8,
   "metadata": {},
   "outputs": [],
   "source": [
    "dataemp['work-balance-stars'] = pd.to_numeric(dataemp['work-balance-stars'].replace('none', np.nan))\n",
    "dataemp['culture-values-stars'] = pd.to_numeric(dataemp['culture-values-stars'].replace('none', np.nan))\n",
    "dataemp['carrer-opportunities-stars'] = pd.to_numeric(dataemp['carrer-opportunities-stars'].replace('none', np.nan))\n",
    "dataemp['comp-benefit-stars'] = pd.to_numeric(dataemp['comp-benefit-stars'].replace('none', np.nan))\n",
    "dataemp['senior-mangemnet-stars'] = pd.to_numeric(dataemp['senior-mangemnet-stars'].replace('none', np.nan))"
   ]
  },
  {
   "cell_type": "code",
   "execution_count": 9,
   "metadata": {},
   "outputs": [
    {
     "data": {
      "text/html": [
       "<div>\n",
       "<style scoped>\n",
       "    .dataframe tbody tr th:only-of-type {\n",
       "        vertical-align: middle;\n",
       "    }\n",
       "\n",
       "    .dataframe tbody tr th {\n",
       "        vertical-align: top;\n",
       "    }\n",
       "\n",
       "    .dataframe thead th {\n",
       "        text-align: right;\n",
       "    }\n",
       "</style>\n",
       "<table border=\"1\" class=\"dataframe\">\n",
       "  <thead>\n",
       "    <tr style=\"text-align: right;\">\n",
       "      <th></th>\n",
       "      <th>overall-ratings</th>\n",
       "      <th>work-balance-stars</th>\n",
       "      <th>culture-values-stars</th>\n",
       "      <th>carrer-opportunities-stars</th>\n",
       "      <th>comp-benefit-stars</th>\n",
       "      <th>senior-mangemnet-stars</th>\n",
       "    </tr>\n",
       "  </thead>\n",
       "  <tbody>\n",
       "    <tr>\n",
       "      <th>count</th>\n",
       "      <td>67529.000000</td>\n",
       "      <td>60369.000000</td>\n",
       "      <td>53983.000000</td>\n",
       "      <td>60421.000000</td>\n",
       "      <td>60368.000000</td>\n",
       "      <td>59754.000000</td>\n",
       "    </tr>\n",
       "    <tr>\n",
       "      <th>mean</th>\n",
       "      <td>3.826075</td>\n",
       "      <td>3.373254</td>\n",
       "      <td>3.784451</td>\n",
       "      <td>3.634035</td>\n",
       "      <td>3.942503</td>\n",
       "      <td>3.322522</td>\n",
       "    </tr>\n",
       "    <tr>\n",
       "      <th>std</th>\n",
       "      <td>1.154989</td>\n",
       "      <td>1.299901</td>\n",
       "      <td>1.296220</td>\n",
       "      <td>1.225787</td>\n",
       "      <td>1.038597</td>\n",
       "      <td>1.312449</td>\n",
       "    </tr>\n",
       "    <tr>\n",
       "      <th>min</th>\n",
       "      <td>1.000000</td>\n",
       "      <td>1.000000</td>\n",
       "      <td>1.000000</td>\n",
       "      <td>1.000000</td>\n",
       "      <td>1.000000</td>\n",
       "      <td>1.000000</td>\n",
       "    </tr>\n",
       "    <tr>\n",
       "      <th>25%</th>\n",
       "      <td>3.000000</td>\n",
       "      <td>2.000000</td>\n",
       "      <td>3.000000</td>\n",
       "      <td>3.000000</td>\n",
       "      <td>3.000000</td>\n",
       "      <td>2.000000</td>\n",
       "    </tr>\n",
       "    <tr>\n",
       "      <th>50%</th>\n",
       "      <td>4.000000</td>\n",
       "      <td>3.500000</td>\n",
       "      <td>4.000000</td>\n",
       "      <td>4.000000</td>\n",
       "      <td>4.000000</td>\n",
       "      <td>3.000000</td>\n",
       "    </tr>\n",
       "    <tr>\n",
       "      <th>75%</th>\n",
       "      <td>5.000000</td>\n",
       "      <td>4.000000</td>\n",
       "      <td>5.000000</td>\n",
       "      <td>5.000000</td>\n",
       "      <td>5.000000</td>\n",
       "      <td>4.000000</td>\n",
       "    </tr>\n",
       "    <tr>\n",
       "      <th>max</th>\n",
       "      <td>5.000000</td>\n",
       "      <td>5.000000</td>\n",
       "      <td>5.000000</td>\n",
       "      <td>5.000000</td>\n",
       "      <td>5.000000</td>\n",
       "      <td>5.000000</td>\n",
       "    </tr>\n",
       "  </tbody>\n",
       "</table>\n",
       "</div>"
      ],
      "text/plain": [
       "       overall-ratings  work-balance-stars  culture-values-stars  \\\n",
       "count     67529.000000        60369.000000          53983.000000   \n",
       "mean          3.826075            3.373254              3.784451   \n",
       "std           1.154989            1.299901              1.296220   \n",
       "min           1.000000            1.000000              1.000000   \n",
       "25%           3.000000            2.000000              3.000000   \n",
       "50%           4.000000            3.500000              4.000000   \n",
       "75%           5.000000            4.000000              5.000000   \n",
       "max           5.000000            5.000000              5.000000   \n",
       "\n",
       "       carrer-opportunities-stars  comp-benefit-stars  senior-mangemnet-stars  \n",
       "count                60421.000000        60368.000000            59754.000000  \n",
       "mean                     3.634035            3.942503                3.322522  \n",
       "std                      1.225787            1.038597                1.312449  \n",
       "min                      1.000000            1.000000                1.000000  \n",
       "25%                      3.000000            3.000000                2.000000  \n",
       "50%                      4.000000            4.000000                3.000000  \n",
       "75%                      5.000000            5.000000                4.000000  \n",
       "max                      5.000000            5.000000                5.000000  "
      ]
     },
     "execution_count": 9,
     "metadata": {},
     "output_type": "execute_result"
    }
   ],
   "source": [
    "dataemp.describe()"
   ]
  },
  {
   "cell_type": "code",
   "execution_count": null,
   "metadata": {},
   "outputs": [],
   "source": []
  },
  {
   "cell_type": "code",
   "execution_count": 10,
   "metadata": {
    "scrolled": true
   },
   "outputs": [
    {
     "data": {
      "image/png": "[encoded data removed]",
      "text/plain": [
       "<Figure size 432x288 with 1 Axes>"
      ]
     },
     "metadata": {
      "needs_background": "light"
     },
     "output_type": "display_data"
    }
   ],
   "source": [
    "\n",
    "bplot = sns.boxplot(y='overall-ratings', x='company',  data=dataemp, width=0.5,palette=\"colorblind\").set_ylabel(\"Overall Ratings\")\n"
   ]
  },
  {
   "cell_type": "markdown",
   "metadata": {},
   "source": [
    "          Overall Ratings by Company"
   ]
  },
  {
   "cell_type": "code",
   "execution_count": 11,
   "metadata": {
    "scrolled": true
   },
   "outputs": [
    {
     "data": {
      "image/png": "[encoded data removed]",
      "text/plain": [
       "<Figure size 432x288 with 1 Axes>"
      ]
     },
     "metadata": {
      "needs_background": "light"
     },
     "output_type": "display_data"
    }
   ],
   "source": [
    "bplot = sns.boxplot(y='overall-ratings', x='company',  data=dataemp, width=0.5,palette=\"colorblind\").set_ylabel(\"Overall Ratings\")\n"
   ]
  },
  {
   "cell_type": "markdown",
   "metadata": {},
   "source": [
    "          Work-Balance Rating by Company"
   ]
  },
  {
   "cell_type": "code",
   "execution_count": 12,
   "metadata": {},
   "outputs": [
    {
     "data": {
      "image/png": "[encoded data removed]",
      "text/plain": [
       "<Figure size 432x288 with 1 Axes>"
      ]
     },
     "metadata": {
      "needs_background": "light"
     },
     "output_type": "display_data"
    }
   ],
   "source": [
    "bplot = sns.boxplot(y='work-balance-stars', x='company',  data=dataemp, width=0.5,palette=\"colorblind\").set_ylabel(\"Work-Balance ratings\")"
   ]
  },
  {
   "cell_type": "code",
   "execution_count": 13,
   "metadata": {},
   "outputs": [
    {
     "data": {
      "image/png": "[encoded data removed]",
      "text/plain": [
       "<Figure size 432x288 with 1 Axes>"
      ]
     },
     "metadata": {
      "needs_background": "light"
     },
     "output_type": "display_data"
    }
   ],
   "source": [
    "bplot = sns.boxplot(y='culture-values-stars', x='company',  data=dataemp, width=0.5,palette=\"colorblind\").set_ylabel(\"Culture Values\")"
   ]
  },
  {
   "cell_type": "markdown",
   "metadata": {},
   "source": [
    "          Culture Values by Company"
   ]
  },
  {
   "cell_type": "code",
   "execution_count": 14,
   "metadata": {},
   "outputs": [
    {
     "data": {
      "image/png": "[encoded data removed]",
      "text/plain": [
       "<Figure size 432x288 with 1 Axes>"
      ]
     },
     "metadata": {
      "needs_background": "light"
     },
     "output_type": "display_data"
    }
   ],
   "source": [
    "bplot = sns.boxplot(y='carrer-opportunities-stars', x='company',  data=dataemp, width=0.5,palette=\"colorblind\").set_ylabel(\"Career Opportunities ratings\")"
   ]
  },
  {
   "cell_type": "code",
   "execution_count": 15,
   "metadata": {},
   "outputs": [
    {
     "data": {
      "image/png": "[encoded data removed]",
      "text/plain": [
       "<Figure size 432x288 with 1 Axes>"
      ]
     },
     "metadata": {
      "needs_background": "light"
     },
     "output_type": "display_data"
    }
   ],
   "source": [
    "bplot = sns.boxplot(y='comp-benefit-stars', x='company',  data=dataemp, width=0.5,palette=\"colorblind\").set_ylabel(\"Compensation Benefit Ratings\")"
   ]
  },
  {
   "cell_type": "markdown",
   "metadata": {},
   "source": [
    "     Compensation Benefits by Company"
   ]
  },
  {
   "cell_type": "code",
   "execution_count": 16,
   "metadata": {},
   "outputs": [
    {
     "data": {
      "image/png": "[encoded data removed]",
      "text/plain": [
       "<Figure size 432x288 with 1 Axes>"
      ]
     },
     "metadata": {
      "needs_background": "light"
     },
     "output_type": "display_data"
    }
   ],
   "source": [
    "bplot = sns.boxplot(y='senior-mangemnet-stars', x='company',  data=dataemp, width=0.5,palette=\"colorblind\").set_ylabel(\"Senior Management Ratings\")"
   ]
  },
  {
   "cell_type": "markdown",
   "metadata": {},
   "source": [
    "     Senior Management ratings by Company"
   ]
  },
  {
   "cell_type": "markdown",
   "metadata": {},
   "source": [
    "# On comparing the ratings with boxplot, it is observed that the companies Facebook and Google are leading at the top"
   ]
  },
  {
   "cell_type": "code",
   "execution_count": 17,
   "metadata": {},
   "outputs": [
    {
     "data": {
      "text/html": [
       "<div>\n",
       "<style scoped>\n",
       "    .dataframe tbody tr th:only-of-type {\n",
       "        vertical-align: middle;\n",
       "    }\n",
       "\n",
       "    .dataframe tbody tr th {\n",
       "        vertical-align: top;\n",
       "    }\n",
       "\n",
       "    .dataframe thead th {\n",
       "        text-align: right;\n",
       "    }\n",
       "</style>\n",
       "<table border=\"1\" class=\"dataframe\">\n",
       "  <thead>\n",
       "    <tr style=\"text-align: right;\">\n",
       "      <th></th>\n",
       "      <th>overall-ratings</th>\n",
       "      <th>work-balance-stars</th>\n",
       "      <th>culture-values-stars</th>\n",
       "      <th>carrer-opportunities-stars</th>\n",
       "      <th>comp-benefit-stars</th>\n",
       "      <th>senior-mangemnet-stars</th>\n",
       "    </tr>\n",
       "  </thead>\n",
       "  <tbody>\n",
       "    <tr>\n",
       "      <th>overall-ratings</th>\n",
       "      <td>1.000000</td>\n",
       "      <td>0.609253</td>\n",
       "      <td>0.758462</td>\n",
       "      <td>0.692263</td>\n",
       "      <td>0.537515</td>\n",
       "      <td>0.726001</td>\n",
       "    </tr>\n",
       "    <tr>\n",
       "      <th>work-balance-stars</th>\n",
       "      <td>0.609253</td>\n",
       "      <td>1.000000</td>\n",
       "      <td>0.573674</td>\n",
       "      <td>0.462895</td>\n",
       "      <td>0.416517</td>\n",
       "      <td>0.571932</td>\n",
       "    </tr>\n",
       "    <tr>\n",
       "      <th>culture-values-stars</th>\n",
       "      <td>0.758462</td>\n",
       "      <td>0.573674</td>\n",
       "      <td>1.000000</td>\n",
       "      <td>0.584871</td>\n",
       "      <td>0.462756</td>\n",
       "      <td>0.715195</td>\n",
       "    </tr>\n",
       "    <tr>\n",
       "      <th>carrer-opportunities-stars</th>\n",
       "      <td>0.692263</td>\n",
       "      <td>0.462895</td>\n",
       "      <td>0.584871</td>\n",
       "      <td>1.000000</td>\n",
       "      <td>0.511943</td>\n",
       "      <td>0.631258</td>\n",
       "    </tr>\n",
       "    <tr>\n",
       "      <th>comp-benefit-stars</th>\n",
       "      <td>0.537515</td>\n",
       "      <td>0.416517</td>\n",
       "      <td>0.462756</td>\n",
       "      <td>0.511943</td>\n",
       "      <td>1.000000</td>\n",
       "      <td>0.470887</td>\n",
       "    </tr>\n",
       "    <tr>\n",
       "      <th>senior-mangemnet-stars</th>\n",
       "      <td>0.726001</td>\n",
       "      <td>0.571932</td>\n",
       "      <td>0.715195</td>\n",
       "      <td>0.631258</td>\n",
       "      <td>0.470887</td>\n",
       "      <td>1.000000</td>\n",
       "    </tr>\n",
       "  </tbody>\n",
       "</table>\n",
       "</div>"
      ],
      "text/plain": [
       "                            overall-ratings  work-balance-stars  \\\n",
       "overall-ratings                    1.000000            0.609253   \n",
       "work-balance-stars                 0.609253            1.000000   \n",
       "culture-values-stars               0.758462            0.573674   \n",
       "carrer-opportunities-stars         0.692263            0.462895   \n",
       "comp-benefit-stars                 0.537515            0.416517   \n",
       "senior-mangemnet-stars             0.726001            0.571932   \n",
       "\n",
       "                            culture-values-stars  carrer-opportunities-stars  \\\n",
       "overall-ratings                         0.758462                    0.692263   \n",
       "work-balance-stars                      0.573674                    0.462895   \n",
       "culture-values-stars                    1.000000                    0.584871   \n",
       "carrer-opportunities-stars              0.584871                    1.000000   \n",
       "comp-benefit-stars                      0.462756                    0.511943   \n",
       "senior-mangemnet-stars                  0.715195                    0.631258   \n",
       "\n",
       "                            comp-benefit-stars  senior-mangemnet-stars  \n",
       "overall-ratings                       0.537515                0.726001  \n",
       "work-balance-stars                    0.416517                0.571932  \n",
       "culture-values-stars                  0.462756                0.715195  \n",
       "carrer-opportunities-stars            0.511943                0.631258  \n",
       "comp-benefit-stars                    1.000000                0.470887  \n",
       "senior-mangemnet-stars                0.470887                1.000000  "
      ]
     },
     "execution_count": 17,
     "metadata": {},
     "output_type": "execute_result"
    }
   ],
   "source": [
    "dataemp.corr()"
   ]
  },
  {
   "cell_type": "code",
   "execution_count": 18,
   "metadata": {
    "scrolled": true
   },
   "outputs": [
    {
     "data": {
      "image/png": "[encoded data removed]",
      "text/plain": [
       "<Figure size 432x288 with 2 Axes>"
      ]
     },
     "metadata": {
      "needs_background": "light"
     },
     "output_type": "display_data"
    }
   ],
   "source": [
    "sns.heatmap(dataemp.corr(), annot=True ,fmt=\".2f\")\n",
    "plt.show()"
   ]
  },
  {
   "cell_type": "markdown",
   "metadata": {},
   "source": [
    "# As per correlation index, it is seen that work culture and senior management ratings are highly correlated to the overall ratings of the company"
   ]
  },
  {
   "cell_type": "code",
   "execution_count": 19,
   "metadata": {},
   "outputs": [],
   "source": [
    "meanval = dataemp['overall-ratings'].mean()"
   ]
  },
  {
   "cell_type": "markdown",
   "metadata": {},
   "source": [
    "# Classifying labels  - 1 - Satisfied happy employee 0- Employee is not satisfied with job. Greater than mean of overall-rating is considered as satisifed and less than mean of overall-rating is considered as unsatisfied for classification"
   ]
  },
  {
   "cell_type": "code",
   "execution_count": 20,
   "metadata": {},
   "outputs": [],
   "source": [
    "dataemp['label'] = dataemp['overall-ratings'].apply(lambda x: 1 if x > meanval  else 0)"
   ]
  },
  {
   "cell_type": "code",
   "execution_count": 21,
   "metadata": {},
   "outputs": [
    {
     "data": {
      "text/html": [
       "<div>\n",
       "<style scoped>\n",
       "    .dataframe tbody tr th:only-of-type {\n",
       "        vertical-align: middle;\n",
       "    }\n",
       "\n",
       "    .dataframe tbody tr th {\n",
       "        vertical-align: top;\n",
       "    }\n",
       "\n",
       "    .dataframe thead th {\n",
       "        text-align: right;\n",
       "    }\n",
       "</style>\n",
       "<table border=\"1\" class=\"dataframe\">\n",
       "  <thead>\n",
       "    <tr style=\"text-align: right;\">\n",
       "      <th></th>\n",
       "      <th>company</th>\n",
       "      <th>dates</th>\n",
       "      <th>summary</th>\n",
       "      <th>pros</th>\n",
       "      <th>cons</th>\n",
       "      <th>overall-ratings</th>\n",
       "      <th>work-balance-stars</th>\n",
       "      <th>culture-values-stars</th>\n",
       "      <th>carrer-opportunities-stars</th>\n",
       "      <th>comp-benefit-stars</th>\n",
       "      <th>senior-mangemnet-stars</th>\n",
       "      <th>label</th>\n",
       "    </tr>\n",
       "  </thead>\n",
       "  <tbody>\n",
       "    <tr>\n",
       "      <th>1</th>\n",
       "      <td>google</td>\n",
       "      <td>Dec 11, 2018</td>\n",
       "      <td>Best Company to work for</td>\n",
       "      <td>People are smart and friendly</td>\n",
       "      <td>Bureaucracy is slowing things down</td>\n",
       "      <td>5.0</td>\n",
       "      <td>4.0</td>\n",
       "      <td>5.0</td>\n",
       "      <td>5.0</td>\n",
       "      <td>4.0</td>\n",
       "      <td>5.0</td>\n",
       "      <td>1</td>\n",
       "    </tr>\n",
       "    <tr>\n",
       "      <th>2</th>\n",
       "      <td>google</td>\n",
       "      <td>Jun 21, 2013</td>\n",
       "      <td>Moving at the speed of light, burn out is inev...</td>\n",
       "      <td>1) Food, food, food. 15+ cafes on main campus ...</td>\n",
       "      <td>1) Work/life balance. What balance? All those ...</td>\n",
       "      <td>4.0</td>\n",
       "      <td>2.0</td>\n",
       "      <td>3.0</td>\n",
       "      <td>3.0</td>\n",
       "      <td>5.0</td>\n",
       "      <td>3.0</td>\n",
       "      <td>1</td>\n",
       "    </tr>\n",
       "    <tr>\n",
       "      <th>3</th>\n",
       "      <td>google</td>\n",
       "      <td>May 10, 2014</td>\n",
       "      <td>Great balance between big-company security and...</td>\n",
       "      <td>* If you're a software engineer, you're among ...</td>\n",
       "      <td>* It *is* becoming larger, and with it comes g...</td>\n",
       "      <td>5.0</td>\n",
       "      <td>5.0</td>\n",
       "      <td>4.0</td>\n",
       "      <td>5.0</td>\n",
       "      <td>5.0</td>\n",
       "      <td>4.0</td>\n",
       "      <td>1</td>\n",
       "    </tr>\n",
       "    <tr>\n",
       "      <th>4</th>\n",
       "      <td>google</td>\n",
       "      <td>Feb 8, 2015</td>\n",
       "      <td>The best place I've worked and also the most d...</td>\n",
       "      <td>You can't find a more well-regarded company th...</td>\n",
       "      <td>I live in SF so the commute can take between 1...</td>\n",
       "      <td>5.0</td>\n",
       "      <td>2.0</td>\n",
       "      <td>5.0</td>\n",
       "      <td>5.0</td>\n",
       "      <td>4.0</td>\n",
       "      <td>5.0</td>\n",
       "      <td>1</td>\n",
       "    </tr>\n",
       "    <tr>\n",
       "      <th>5</th>\n",
       "      <td>google</td>\n",
       "      <td>Jul 19, 2018</td>\n",
       "      <td>Unique, one of a kind dream job</td>\n",
       "      <td>Google is a world of its own. At every other c...</td>\n",
       "      <td>If you don't work in MTV (HQ), you will be giv...</td>\n",
       "      <td>5.0</td>\n",
       "      <td>5.0</td>\n",
       "      <td>5.0</td>\n",
       "      <td>5.0</td>\n",
       "      <td>5.0</td>\n",
       "      <td>5.0</td>\n",
       "      <td>1</td>\n",
       "    </tr>\n",
       "  </tbody>\n",
       "</table>\n",
       "</div>"
      ],
      "text/plain": [
       "  company          dates                                            summary  \\\n",
       "1  google   Dec 11, 2018                           Best Company to work for   \n",
       "2  google   Jun 21, 2013  Moving at the speed of light, burn out is inev...   \n",
       "3  google   May 10, 2014  Great balance between big-company security and...   \n",
       "4  google    Feb 8, 2015  The best place I've worked and also the most d...   \n",
       "5  google   Jul 19, 2018                    Unique, one of a kind dream job   \n",
       "\n",
       "                                                pros  \\\n",
       "1                      People are smart and friendly   \n",
       "2  1) Food, food, food. 15+ cafes on main campus ...   \n",
       "3  * If you're a software engineer, you're among ...   \n",
       "4  You can't find a more well-regarded company th...   \n",
       "5  Google is a world of its own. At every other c...   \n",
       "\n",
       "                                                cons  overall-ratings  \\\n",
       "1                 Bureaucracy is slowing things down              5.0   \n",
       "2  1) Work/life balance. What balance? All those ...              4.0   \n",
       "3  * It *is* becoming larger, and with it comes g...              5.0   \n",
       "4  I live in SF so the commute can take between 1...              5.0   \n",
       "5  If you don't work in MTV (HQ), you will be giv...              5.0   \n",
       "\n",
       "   work-balance-stars  culture-values-stars  carrer-opportunities-stars  \\\n",
       "1                 4.0                   5.0                         5.0   \n",
       "2                 2.0                   3.0                         3.0   \n",
       "3                 5.0                   4.0                         5.0   \n",
       "4                 2.0                   5.0                         5.0   \n",
       "5                 5.0                   5.0                         5.0   \n",
       "\n",
       "   comp-benefit-stars  senior-mangemnet-stars  label  \n",
       "1                 4.0                     5.0      1  \n",
       "2                 5.0                     3.0      1  \n",
       "3                 5.0                     4.0      1  \n",
       "4                 4.0                     5.0      1  \n",
       "5                 5.0                     5.0      1  "
      ]
     },
     "execution_count": 21,
     "metadata": {},
     "output_type": "execute_result"
    }
   ],
   "source": [
    "dataemp.head()"
   ]
  },
  {
   "cell_type": "code",
   "execution_count": 22,
   "metadata": {},
   "outputs": [
    {
     "data": {
      "image/png": "[encoded data removed]",
      "text/plain": [
       "<Figure size 432x288 with 1 Axes>"
      ]
     },
     "metadata": {
      "needs_background": "light"
     },
     "output_type": "display_data"
    }
   ],
   "source": [
    "pd.value_counts(dataemp['label']).plot.bar()\n",
    "plt.show()"
   ]
  },
  {
   "cell_type": "code",
   "execution_count": 23,
   "metadata": {},
   "outputs": [],
   "source": [
    "def datatext_preprocess(total_text):\n",
    "    removepunc = [char for char in total_text if char not in string.punctuation]    \n",
    "    removepunc = ''.join(removepunc)\n",
    "    re.sub('[^A-Za-z]+', '', removepunc)\n",
    "    return ' '.join([word for word in removepunc.split() if word.lower() not in stopwords.words('english')])\n",
    "        "
   ]
  },
  {
   "cell_type": "code",
   "execution_count": 24,
   "metadata": {},
   "outputs": [
    {
     "name": "stdout",
     "output_type": "stream",
     "text": [
      "<class 'pandas.core.frame.DataFrame'>\n",
      "Int64Index: 67529 entries, 1 to 67529\n",
      "Data columns (total 12 columns):\n",
      "company                       67529 non-null object\n",
      "dates                         67529 non-null object\n",
      "summary                       67409 non-null object\n",
      "pros                          67529 non-null object\n",
      "cons                          67529 non-null object\n",
      "overall-ratings               67529 non-null float64\n",
      "work-balance-stars            60369 non-null float64\n",
      "culture-values-stars          53983 non-null float64\n",
      "carrer-opportunities-stars    60421 non-null float64\n",
      "comp-benefit-stars            60368 non-null float64\n",
      "senior-mangemnet-stars        59754 non-null float64\n",
      "label                         67529 non-null int64\n",
      "dtypes: float64(6), int64(1), object(5)\n",
      "memory usage: 9.2+ MB\n"
     ]
    }
   ],
   "source": [
    "dataemp.info()"
   ]
  },
  {
   "cell_type": "code",
   "execution_count": 25,
   "metadata": {},
   "outputs": [],
   "source": [
    "dataemp['summary']=dataemp['summary'].fillna(\"\")\n",
    "dataemp['pros']=dataemp['pros'].fillna(\"\")\n",
    "dataemp['cons']=dataemp['cons'].fillna(\"\")"
   ]
  },
  {
   "cell_type": "code",
   "execution_count": 26,
   "metadata": {},
   "outputs": [
    {
     "name": "stdout",
     "output_type": "stream",
     "text": [
      "<class 'pandas.core.frame.DataFrame'>\n",
      "Int64Index: 67529 entries, 1 to 67529\n",
      "Data columns (total 12 columns):\n",
      "company                       67529 non-null object\n",
      "dates                         67529 non-null object\n",
      "summary                       67529 non-null object\n",
      "pros                          67529 non-null object\n",
      "cons                          67529 non-null object\n",
      "overall-ratings               67529 non-null float64\n",
      "work-balance-stars            60369 non-null float64\n",
      "culture-values-stars          53983 non-null float64\n",
      "carrer-opportunities-stars    60421 non-null float64\n",
      "comp-benefit-stars            60368 non-null float64\n",
      "senior-mangemnet-stars        59754 non-null float64\n",
      "label                         67529 non-null int64\n",
      "dtypes: float64(6), int64(1), object(5)\n",
      "memory usage: 9.2+ MB\n"
     ]
    }
   ],
   "source": [
    "dataemp.info()"
   ]
  },
  {
   "cell_type": "code",
   "execution_count": 27,
   "metadata": {},
   "outputs": [],
   "source": [
    "dataemp['summary'] = dataemp['summary'].apply(datatext_preprocess)\n",
    "dataemp['pros'] = dataemp['pros'].apply(datatext_preprocess)\n",
    "dataemp['cons'] = dataemp['cons'].apply(datatext_preprocess)"
   ]
  },
  {
   "cell_type": "markdown",
   "metadata": {},
   "source": [
    "After text preprocessing"
   ]
  },
  {
   "cell_type": "code",
   "execution_count": 28,
   "metadata": {},
   "outputs": [
    {
     "data": {
      "text/plain": [
       "1                                    Best Company work\n",
       "2                   Moving speed light burn inevitable\n",
       "3    Great balance bigcompany security fun fastmovi...\n",
       "4                 best place Ive worked also demanding\n",
       "5                            Unique one kind dream job\n",
       "Name: summary, dtype: object"
      ]
     },
     "execution_count": 28,
     "metadata": {},
     "output_type": "execute_result"
    }
   ],
   "source": [
    "dataemp['summary'].head()"
   ]
  },
  {
   "cell_type": "code",
   "execution_count": 29,
   "metadata": {},
   "outputs": [],
   "source": [
    "labeltext = dataemp.groupby(\"label\")"
   ]
  },
  {
   "cell_type": "code",
   "execution_count": 30,
   "metadata": {},
   "outputs": [
    {
     "data": {
      "text/html": [
       "<div>\n",
       "<style scoped>\n",
       "    .dataframe tbody tr th:only-of-type {\n",
       "        vertical-align: middle;\n",
       "    }\n",
       "\n",
       "    .dataframe tbody tr th {\n",
       "        vertical-align: top;\n",
       "    }\n",
       "\n",
       "    .dataframe thead tr th {\n",
       "        text-align: left;\n",
       "    }\n",
       "\n",
       "    .dataframe thead tr:last-of-type th {\n",
       "        text-align: right;\n",
       "    }\n",
       "</style>\n",
       "<table border=\"1\" class=\"dataframe\">\n",
       "  <thead>\n",
       "    <tr>\n",
       "      <th></th>\n",
       "      <th colspan=\"8\" halign=\"left\">carrer-opportunities-stars</th>\n",
       "      <th colspan=\"2\" halign=\"left\">comp-benefit-stars</th>\n",
       "      <th>...</th>\n",
       "      <th colspan=\"2\" halign=\"left\">senior-mangemnet-stars</th>\n",
       "      <th colspan=\"8\" halign=\"left\">work-balance-stars</th>\n",
       "    </tr>\n",
       "    <tr>\n",
       "      <th></th>\n",
       "      <th>count</th>\n",
       "      <th>mean</th>\n",
       "      <th>std</th>\n",
       "      <th>min</th>\n",
       "      <th>25%</th>\n",
       "      <th>50%</th>\n",
       "      <th>75%</th>\n",
       "      <th>max</th>\n",
       "      <th>count</th>\n",
       "      <th>mean</th>\n",
       "      <th>...</th>\n",
       "      <th>75%</th>\n",
       "      <th>max</th>\n",
       "      <th>count</th>\n",
       "      <th>mean</th>\n",
       "      <th>std</th>\n",
       "      <th>min</th>\n",
       "      <th>25%</th>\n",
       "      <th>50%</th>\n",
       "      <th>75%</th>\n",
       "      <th>max</th>\n",
       "    </tr>\n",
       "    <tr>\n",
       "      <th>label</th>\n",
       "      <th></th>\n",
       "      <th></th>\n",
       "      <th></th>\n",
       "      <th></th>\n",
       "      <th></th>\n",
       "      <th></th>\n",
       "      <th></th>\n",
       "      <th></th>\n",
       "      <th></th>\n",
       "      <th></th>\n",
       "      <th></th>\n",
       "      <th></th>\n",
       "      <th></th>\n",
       "      <th></th>\n",
       "      <th></th>\n",
       "      <th></th>\n",
       "      <th></th>\n",
       "      <th></th>\n",
       "      <th></th>\n",
       "      <th></th>\n",
       "      <th></th>\n",
       "    </tr>\n",
       "  </thead>\n",
       "  <tbody>\n",
       "    <tr>\n",
       "      <th>0</th>\n",
       "      <td>19847.0</td>\n",
       "      <td>2.587847</td>\n",
       "      <td>1.126432</td>\n",
       "      <td>1.0</td>\n",
       "      <td>2.0</td>\n",
       "      <td>3.0</td>\n",
       "      <td>3.0</td>\n",
       "      <td>5.0</td>\n",
       "      <td>19848.0</td>\n",
       "      <td>3.271463</td>\n",
       "      <td>...</td>\n",
       "      <td>3.0</td>\n",
       "      <td>5.0</td>\n",
       "      <td>19842.0</td>\n",
       "      <td>2.387763</td>\n",
       "      <td>1.196678</td>\n",
       "      <td>1.0</td>\n",
       "      <td>1.0</td>\n",
       "      <td>2.0</td>\n",
       "      <td>3.0</td>\n",
       "      <td>5.0</td>\n",
       "    </tr>\n",
       "    <tr>\n",
       "      <th>1</th>\n",
       "      <td>40574.0</td>\n",
       "      <td>4.145783</td>\n",
       "      <td>0.905325</td>\n",
       "      <td>1.0</td>\n",
       "      <td>4.0</td>\n",
       "      <td>4.0</td>\n",
       "      <td>5.0</td>\n",
       "      <td>5.0</td>\n",
       "      <td>40520.0</td>\n",
       "      <td>4.271199</td>\n",
       "      <td>...</td>\n",
       "      <td>5.0</td>\n",
       "      <td>5.0</td>\n",
       "      <td>40527.0</td>\n",
       "      <td>3.855750</td>\n",
       "      <td>1.052445</td>\n",
       "      <td>1.0</td>\n",
       "      <td>3.0</td>\n",
       "      <td>4.0</td>\n",
       "      <td>5.0</td>\n",
       "      <td>5.0</td>\n",
       "    </tr>\n",
       "  </tbody>\n",
       "</table>\n",
       "<p>2 rows × 48 columns</p>\n",
       "</div>"
      ],
      "text/plain": [
       "      carrer-opportunities-stars                                               \\\n",
       "                           count      mean       std  min  25%  50%  75%  max   \n",
       "label                                                                           \n",
       "0                        19847.0  2.587847  1.126432  1.0  2.0  3.0  3.0  5.0   \n",
       "1                        40574.0  4.145783  0.905325  1.0  4.0  4.0  5.0  5.0   \n",
       "\n",
       "      comp-benefit-stars           ...  senior-mangemnet-stars       \\\n",
       "                   count      mean ...                     75%  max   \n",
       "label                              ...                                \n",
       "0                19848.0  3.271463 ...                     3.0  5.0   \n",
       "1                40520.0  4.271199 ...                     5.0  5.0   \n",
       "\n",
       "      work-balance-stars                                               \n",
       "                   count      mean       std  min  25%  50%  75%  max  \n",
       "label                                                                  \n",
       "0                19842.0  2.387763  1.196678  1.0  1.0  2.0  3.0  5.0  \n",
       "1                40527.0  3.855750  1.052445  1.0  3.0  4.0  5.0  5.0  \n",
       "\n",
       "[2 rows x 48 columns]"
      ]
     },
     "execution_count": 30,
     "metadata": {},
     "output_type": "execute_result"
    }
   ],
   "source": [
    "labeltext.describe()"
   ]
  },
  {
   "cell_type": "code",
   "execution_count": 31,
   "metadata": {},
   "outputs": [],
   "source": [
    "\n",
    "##wordcloud = WordCloud().generate(dataemp.reviews[0])"
   ]
  },
  {
   "cell_type": "markdown",
   "metadata": {},
   "source": [
    "Combing all the text data to be used as features for predicting employee sentiment on job satisfaction"
   ]
  },
  {
   "cell_type": "code",
   "execution_count": 32,
   "metadata": {},
   "outputs": [],
   "source": [
    "dataemp[\"reviews\"] = dataemp[\"summary\"] +' ' + dataemp[\"pros\"]+' ' +dataemp[\"cons\"]\n",
    "X = dataemp[\"reviews\"]\n",
    "y = dataemp[\"label\"]"
   ]
  },
  {
   "cell_type": "markdown",
   "metadata": {},
   "source": [
    "Vectorizing the text data to prepare for classification training"
   ]
  },
  {
   "cell_type": "code",
   "execution_count": 33,
   "metadata": {},
   "outputs": [],
   "source": [
    "\n",
    "cv = CountVectorizer()\n",
    "X = cv.fit_transform(X)"
   ]
  },
  {
   "cell_type": "markdown",
   "metadata": {},
   "source": [
    "Splitting the training and test data in the ratio of 70% training data and 30% test data"
   ]
  },
  {
   "cell_type": "code",
   "execution_count": 34,
   "metadata": {},
   "outputs": [],
   "source": [
    "\n",
    "X_train, X_test, y_train, y_test = train_test_split(X, y, test_size=0.3, random_state = 101)"
   ]
  },
  {
   "cell_type": "markdown",
   "metadata": {},
   "source": [
    "Naive Bayes Classification model"
   ]
  },
  {
   "cell_type": "code",
   "execution_count": 35,
   "metadata": {},
   "outputs": [],
   "source": [
    "\n",
    "nb = MultinomialNB()\n"
   ]
  },
  {
   "cell_type": "code",
   "execution_count": 36,
   "metadata": {},
   "outputs": [
    {
     "data": {
      "text/plain": [
       "MultinomialNB(alpha=1.0, class_prior=None, fit_prior=True)"
      ]
     },
     "execution_count": 36,
     "metadata": {},
     "output_type": "execute_result"
    }
   ],
   "source": [
    "nb.fit(X_train, y_train)"
   ]
  },
  {
   "cell_type": "code",
   "execution_count": 37,
   "metadata": {},
   "outputs": [],
   "source": [
    "predictions = nb.predict(X_test)"
   ]
  },
  {
   "cell_type": "code",
   "execution_count": 38,
   "metadata": {},
   "outputs": [
    {
     "name": "stdout",
     "output_type": "stream",
     "text": [
      "[[ 3500  3072]\n",
      " [ 1463 12224]]\n"
     ]
    }
   ],
   "source": [
    "print(confusion_matrix(y_test, predictions))"
   ]
  },
  {
   "cell_type": "markdown",
   "metadata": {},
   "source": [
    "Accuracy about 77% with Naive Bayes Model"
   ]
  },
  {
   "cell_type": "code",
   "execution_count": 39,
   "metadata": {},
   "outputs": [
    {
     "name": "stdout",
     "output_type": "stream",
     "text": [
      "              precision    recall  f1-score   support\n",
      "\n",
      "           0       0.71      0.53      0.61      6572\n",
      "           1       0.80      0.89      0.84     13687\n",
      "\n",
      "   micro avg       0.78      0.78      0.78     20259\n",
      "   macro avg       0.75      0.71      0.73     20259\n",
      "weighted avg       0.77      0.78      0.77     20259\n",
      "\n"
     ]
    }
   ],
   "source": [
    "print(classification_report(y_test, predictions))"
   ]
  },
  {
   "cell_type": "markdown",
   "metadata": {},
   "source": [
    "Random Forest Classification Model"
   ]
  },
  {
   "cell_type": "code",
   "execution_count": 40,
   "metadata": {},
   "outputs": [],
   "source": [
    "\n",
    "RFmodel = RandomForestClassifier(n_estimators=100)"
   ]
  },
  {
   "cell_type": "code",
   "execution_count": 41,
   "metadata": {},
   "outputs": [
    {
     "data": {
      "text/plain": [
       "RandomForestClassifier(bootstrap=True, class_weight=None, criterion='gini',\n",
       "            max_depth=None, max_features='auto', max_leaf_nodes=None,\n",
       "            min_impurity_decrease=0.0, min_impurity_split=None,\n",
       "            min_samples_leaf=1, min_samples_split=2,\n",
       "            min_weight_fraction_leaf=0.0, n_estimators=100, n_jobs=None,\n",
       "            oob_score=False, random_state=None, verbose=0,\n",
       "            warm_start=False)"
      ]
     },
     "execution_count": 41,
     "metadata": {},
     "output_type": "execute_result"
    }
   ],
   "source": [
    "RFmodel.fit(X_train, y_train)"
   ]
  },
  {
   "cell_type": "code",
   "execution_count": 42,
   "metadata": {},
   "outputs": [],
   "source": [
    "predictions = RFmodel.predict(X_test)"
   ]
  },
  {
   "cell_type": "code",
   "execution_count": 43,
   "metadata": {},
   "outputs": [
    {
     "name": "stdout",
     "output_type": "stream",
     "text": [
      "[[ 2157  4415]\n",
      " [  520 13167]]\n"
     ]
    }
   ],
   "source": [
    "print(confusion_matrix(y_test, predictions))"
   ]
  },
  {
   "cell_type": "markdown",
   "metadata": {},
   "source": [
    "Accuracy for Random Forest is same as Naive Bayes around 76%"
   ]
  },
  {
   "cell_type": "code",
   "execution_count": 44,
   "metadata": {},
   "outputs": [
    {
     "name": "stdout",
     "output_type": "stream",
     "text": [
      "              precision    recall  f1-score   support\n",
      "\n",
      "           0       0.81      0.33      0.47      6572\n",
      "           1       0.75      0.96      0.84     13687\n",
      "\n",
      "   micro avg       0.76      0.76      0.76     20259\n",
      "   macro avg       0.78      0.65      0.65     20259\n",
      "weighted avg       0.77      0.76      0.72     20259\n",
      "\n"
     ]
    }
   ],
   "source": [
    "print(classification_report(y_test, predictions))"
   ]
  }
 ],
 "metadata": {
  "kernelspec": {
   "display_name": "Python 3",
   "language": "python",
   "name": "python3"
  },
  "language_info": {
   "codemirror_mode": {
    "name": "ipython",
    "version": 3
   },
   "file_extension": ".py",
   "mimetype": "text/x-python",
   "name": "python",
   "nbconvert_exporter": "python",
   "pygments_lexer": "ipython3",
   "version": "3.7.1"
  }
 },
 "nbformat": 4,
 "nbformat_minor": 2
}
